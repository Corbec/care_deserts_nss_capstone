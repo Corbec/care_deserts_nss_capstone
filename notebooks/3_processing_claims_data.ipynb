{
 "cells": [
  {
   "cell_type": "code",
   "execution_count": 1,
   "metadata": {},
   "outputs": [],
   "source": [
    "import pandas as pd\n",
    "import numpy as np"
   ]
  },
  {
   "cell_type": "code",
   "execution_count": 2,
   "metadata": {},
   "outputs": [],
   "source": [
    "claims = pd.read_parquet('..\\data\\Care_Deserts_NSS_capstone_v2.parquet',\n",
    "        engine = 'fastparquet')"
   ]
  },
  {
   "cell_type": "code",
   "execution_count": 3,
   "metadata": {},
   "outputs": [
    {
     "data": {
      "text/html": [
       "<div>\n",
       "<style scoped>\n",
       "    .dataframe tbody tr th:only-of-type {\n",
       "        vertical-align: middle;\n",
       "    }\n",
       "\n",
       "    .dataframe tbody tr th {\n",
       "        vertical-align: top;\n",
       "    }\n",
       "\n",
       "    .dataframe thead th {\n",
       "        text-align: right;\n",
       "    }\n",
       "</style>\n",
       "<table border=\"1\" class=\"dataframe\">\n",
       "  <thead>\n",
       "    <tr style=\"text-align: right;\">\n",
       "      <th></th>\n",
       "      <th>patientid</th>\n",
       "      <th>claimid</th>\n",
       "      <th>zip3</th>\n",
       "      <th>servicedate</th>\n",
       "      <th>service_month</th>\n",
       "      <th>service_year</th>\n",
       "      <th>rendering_npi</th>\n",
       "      <th>rendering_name</th>\n",
       "      <th>rendering_class</th>\n",
       "      <th>rendering_spec</th>\n",
       "      <th>...</th>\n",
       "      <th>billing_npi</th>\n",
       "      <th>billing_name</th>\n",
       "      <th>billing_class</th>\n",
       "      <th>billing_spec</th>\n",
       "      <th>billing_city</th>\n",
       "      <th>billing_county</th>\n",
       "      <th>billing_state</th>\n",
       "      <th>billing_zip</th>\n",
       "      <th>billing_lat</th>\n",
       "      <th>billing_lng</th>\n",
       "    </tr>\n",
       "  </thead>\n",
       "  <tbody>\n",
       "    <tr>\n",
       "      <th>0</th>\n",
       "      <td>2118204fa0023e48d411c3dddb34b7a5</td>\n",
       "      <td>cf17acec8fec96171fa092fe17fffb5d</td>\n",
       "      <td>373</td>\n",
       "      <td>2019-10-28</td>\n",
       "      <td>10.0</td>\n",
       "      <td>2019.0</td>\n",
       "      <td>1124251913</td>\n",
       "      <td>AEROCARE</td>\n",
       "      <td>Durable Medical Equipment &amp; Medical Supplies</td>\n",
       "      <td>Oxygen Equipment &amp; Supplies</td>\n",
       "      <td>...</td>\n",
       "      <td>1124251913</td>\n",
       "      <td>AEROCARE</td>\n",
       "      <td>Durable Medical Equipment &amp; Medical Supplies</td>\n",
       "      <td>Oxygen Equipment &amp; Supplies</td>\n",
       "      <td>CLEVELAND</td>\n",
       "      <td>Bradley County</td>\n",
       "      <td>TN</td>\n",
       "      <td>37311</td>\n",
       "      <td>35.152228</td>\n",
       "      <td>-84.900718</td>\n",
       "    </tr>\n",
       "    <tr>\n",
       "      <th>1</th>\n",
       "      <td>41e7e3b70236e78781db3448512d3e02</td>\n",
       "      <td>484c4869660e6a0832aca2aa51d42602</td>\n",
       "      <td>372</td>\n",
       "      <td>2021-12-14</td>\n",
       "      <td>12.0</td>\n",
       "      <td>2021.0</td>\n",
       "      <td>1235186800</td>\n",
       "      <td>PATHGROUP LABS, LLC</td>\n",
       "      <td>Clinical Medical Laboratory</td>\n",
       "      <td></td>\n",
       "      <td>...</td>\n",
       "      <td>1235186800</td>\n",
       "      <td>PATHGROUP LABS, LLC</td>\n",
       "      <td>Clinical Medical Laboratory</td>\n",
       "      <td></td>\n",
       "      <td>NASHVILLE</td>\n",
       "      <td>Davidson County</td>\n",
       "      <td>TN</td>\n",
       "      <td>37217</td>\n",
       "      <td>36.091490</td>\n",
       "      <td>-86.680757</td>\n",
       "    </tr>\n",
       "    <tr>\n",
       "      <th>2</th>\n",
       "      <td>594ef54d47af2def3b5617be56d0088a</td>\n",
       "      <td>56d69687812083e182bd2c1351f48b42</td>\n",
       "      <td>379</td>\n",
       "      <td>2019-06-25</td>\n",
       "      <td>6.0</td>\n",
       "      <td>2019.0</td>\n",
       "      <td>1295784502</td>\n",
       "      <td>CYNTHIA PEARMAN</td>\n",
       "      <td>Family Medicine</td>\n",
       "      <td></td>\n",
       "      <td>...</td>\n",
       "      <td>1619197365</td>\n",
       "      <td>UNIVERSITY OF TN MEDICAL CENTER HOME CARE SERV...</td>\n",
       "      <td>Hospice Care, Community Based</td>\n",
       "      <td></td>\n",
       "      <td>KNOXVILLE</td>\n",
       "      <td>Knox County</td>\n",
       "      <td>TN</td>\n",
       "      <td>37919</td>\n",
       "      <td>35.956870</td>\n",
       "      <td>-83.952225</td>\n",
       "    </tr>\n",
       "    <tr>\n",
       "      <th>3</th>\n",
       "      <td>80cfad2b24304c008e426ad4ce4c6777</td>\n",
       "      <td>0f453d4e9b2c17bbad1b24fd85ac001f</td>\n",
       "      <td>377</td>\n",
       "      <td>2019-08-02</td>\n",
       "      <td>8.0</td>\n",
       "      <td>2019.0</td>\n",
       "      <td>1336123538</td>\n",
       "      <td>BUCKEYE HOME HEALTH CENTER, INC.</td>\n",
       "      <td>Durable Medical Equipment &amp; Medical Supplies</td>\n",
       "      <td></td>\n",
       "      <td>...</td>\n",
       "      <td>1336123538</td>\n",
       "      <td>BUCKEYE HOME HEALTH CENTER, INC.</td>\n",
       "      <td>Durable Medical Equipment &amp; Medical Supplies</td>\n",
       "      <td></td>\n",
       "      <td>JAMESTOWN</td>\n",
       "      <td>Fentress County</td>\n",
       "      <td>TN</td>\n",
       "      <td>38556</td>\n",
       "      <td>36.429009</td>\n",
       "      <td>-84.937379</td>\n",
       "    </tr>\n",
       "    <tr>\n",
       "      <th>4</th>\n",
       "      <td>8494be6114a4469ab88aa9797ddab6b3</td>\n",
       "      <td>063884d9166e6f418763708fb42b2544</td>\n",
       "      <td>283</td>\n",
       "      <td>2021-08-09</td>\n",
       "      <td>8.0</td>\n",
       "      <td>2021.0</td>\n",
       "      <td>1235186800</td>\n",
       "      <td>PATHGROUP LABS, LLC</td>\n",
       "      <td>Clinical Medical Laboratory</td>\n",
       "      <td></td>\n",
       "      <td>...</td>\n",
       "      <td>1235186800</td>\n",
       "      <td>PATHGROUP LABS, LLC</td>\n",
       "      <td>Clinical Medical Laboratory</td>\n",
       "      <td></td>\n",
       "      <td>NASHVILLE</td>\n",
       "      <td>Davidson County</td>\n",
       "      <td>TN</td>\n",
       "      <td>37217</td>\n",
       "      <td>36.091490</td>\n",
       "      <td>-86.680757</td>\n",
       "    </tr>\n",
       "  </tbody>\n",
       "</table>\n",
       "<p>5 rows × 36 columns</p>\n",
       "</div>"
      ],
      "text/plain": [
       "                          patientid                           claimid zip3  \\\n",
       "0  2118204fa0023e48d411c3dddb34b7a5  cf17acec8fec96171fa092fe17fffb5d  373   \n",
       "1  41e7e3b70236e78781db3448512d3e02  484c4869660e6a0832aca2aa51d42602  372   \n",
       "2  594ef54d47af2def3b5617be56d0088a  56d69687812083e182bd2c1351f48b42  379   \n",
       "3  80cfad2b24304c008e426ad4ce4c6777  0f453d4e9b2c17bbad1b24fd85ac001f  377   \n",
       "4  8494be6114a4469ab88aa9797ddab6b3  063884d9166e6f418763708fb42b2544  283   \n",
       "\n",
       "  servicedate  service_month  service_year rendering_npi  \\\n",
       "0  2019-10-28           10.0        2019.0    1124251913   \n",
       "1  2021-12-14           12.0        2021.0    1235186800   \n",
       "2  2019-06-25            6.0        2019.0    1295784502   \n",
       "3  2019-08-02            8.0        2019.0    1336123538   \n",
       "4  2021-08-09            8.0        2021.0    1235186800   \n",
       "\n",
       "                     rendering_name  \\\n",
       "0                          AEROCARE   \n",
       "1               PATHGROUP LABS, LLC   \n",
       "2                   CYNTHIA PEARMAN   \n",
       "3  BUCKEYE HOME HEALTH CENTER, INC.   \n",
       "4               PATHGROUP LABS, LLC   \n",
       "\n",
       "                                rendering_class               rendering_spec  \\\n",
       "0  Durable Medical Equipment & Medical Supplies  Oxygen Equipment & Supplies   \n",
       "1                   Clinical Medical Laboratory                                \n",
       "2                               Family Medicine                                \n",
       "3  Durable Medical Equipment & Medical Supplies                                \n",
       "4                   Clinical Medical Laboratory                                \n",
       "\n",
       "   ... billing_npi                                       billing_name  \\\n",
       "0  ...  1124251913                                           AEROCARE   \n",
       "1  ...  1235186800                                PATHGROUP LABS, LLC   \n",
       "2  ...  1619197365  UNIVERSITY OF TN MEDICAL CENTER HOME CARE SERV...   \n",
       "3  ...  1336123538                   BUCKEYE HOME HEALTH CENTER, INC.   \n",
       "4  ...  1235186800                                PATHGROUP LABS, LLC   \n",
       "\n",
       "                                  billing_class                 billing_spec  \\\n",
       "0  Durable Medical Equipment & Medical Supplies  Oxygen Equipment & Supplies   \n",
       "1                   Clinical Medical Laboratory                                \n",
       "2                 Hospice Care, Community Based                                \n",
       "3  Durable Medical Equipment & Medical Supplies                                \n",
       "4                   Clinical Medical Laboratory                                \n",
       "\n",
       "   billing_city   billing_county billing_state billing_zip billing_lat  \\\n",
       "0     CLEVELAND   Bradley County            TN       37311   35.152228   \n",
       "1     NASHVILLE  Davidson County            TN       37217   36.091490   \n",
       "2     KNOXVILLE      Knox County            TN       37919   35.956870   \n",
       "3     JAMESTOWN  Fentress County            TN       38556   36.429009   \n",
       "4     NASHVILLE  Davidson County            TN       37217   36.091490   \n",
       "\n",
       "  billing_lng  \n",
       "0  -84.900718  \n",
       "1  -86.680757  \n",
       "2  -83.952225  \n",
       "3  -84.937379  \n",
       "4  -86.680757  \n",
       "\n",
       "[5 rows x 36 columns]"
      ]
     },
     "execution_count": 3,
     "metadata": {},
     "output_type": "execute_result"
    }
   ],
   "source": [
    "claims.head()"
   ]
  },
  {
   "cell_type": "code",
   "execution_count": 4,
   "metadata": {},
   "outputs": [
    {
     "data": {
      "text/plain": [
       "(56167917, 36)"
      ]
     },
     "execution_count": 4,
     "metadata": {},
     "output_type": "execute_result"
    }
   ],
   "source": [
    "claims.shape"
   ]
  },
  {
   "cell_type": "code",
   "execution_count": 5,
   "metadata": {},
   "outputs": [
    {
     "name": "stdout",
     "output_type": "stream",
     "text": [
      "<class 'pandas.core.frame.DataFrame'>\n",
      "RangeIndex: 56167917 entries, 0 to 56167916\n",
      "Data columns (total 36 columns):\n",
      " #   Column            Dtype         \n",
      "---  ------            -----         \n",
      " 0   patientid         object        \n",
      " 1   claimid           object        \n",
      " 2   zip3              object        \n",
      " 3   servicedate       datetime64[ns]\n",
      " 4   service_month     float64       \n",
      " 5   service_year      float64       \n",
      " 6   rendering_npi     object        \n",
      " 7   rendering_name    object        \n",
      " 8   rendering_class   object        \n",
      " 9   rendering_spec    object        \n",
      " 10  rendering_city    object        \n",
      " 11  rendering_county  object        \n",
      " 12  rendering_state   object        \n",
      " 13  rendering_zip     object        \n",
      " 14  rendering_lat     float64       \n",
      " 15  rendering_lng     float64       \n",
      " 16  location_npi      object        \n",
      " 17  location_name     object        \n",
      " 18  location_class    object        \n",
      " 19  location_spec     object        \n",
      " 20  location_city     object        \n",
      " 21  location_county   object        \n",
      " 22  location_state    object        \n",
      " 23  location_zip      object        \n",
      " 24  location_lat      float64       \n",
      " 25  location_lng      float64       \n",
      " 26  billing_npi       object        \n",
      " 27  billing_name      object        \n",
      " 28  billing_class     object        \n",
      " 29  billing_spec      object        \n",
      " 30  billing_city      object        \n",
      " 31  billing_county    object        \n",
      " 32  billing_state     object        \n",
      " 33  billing_zip       object        \n",
      " 34  billing_lat       float64       \n",
      " 35  billing_lng       float64       \n",
      "dtypes: datetime64[ns](1), float64(8), object(27)\n",
      "memory usage: 15.1+ GB\n"
     ]
    }
   ],
   "source": [
    "claims.info(verbose = True)"
   ]
  },
  {
   "cell_type": "code",
   "execution_count": 8,
   "metadata": {},
   "outputs": [],
   "source": [
    "patients_zip3 = claims.groupby(['zip3', 'service_year'])['patientid'].nunique()"
   ]
  },
  {
   "cell_type": "code",
   "execution_count": 6,
   "metadata": {},
   "outputs": [],
   "source": [
    "rendering_zipcode = claims.groupby(['rendering_zip', 'service_year'])['rendering_npi'].nunique()"
   ]
  },
  {
   "cell_type": "code",
   "execution_count": 7,
   "metadata": {},
   "outputs": [
    {
     "data": {
      "text/plain": [
       "rendering_zip  service_year\n",
       "00000          2020.0          1\n",
       "               2021.0          1\n",
       "00637          2019.0          1\n",
       "00662          2019.0          1\n",
       "00680          2019.0          2\n",
       "                              ..\n",
       "99801          2020.0          1\n",
       "99835          2019.0          1\n",
       "99840          2019.0          1\n",
       "99901          2019.0          2\n",
       "               2020.0          1\n",
       "Name: rendering_npi, Length: 10552, dtype: int64"
      ]
     },
     "execution_count": 7,
     "metadata": {},
     "output_type": "execute_result"
    }
   ],
   "source": [
    "rendering_zipcode"
   ]
  },
  {
   "cell_type": "code",
   "execution_count": 9,
   "metadata": {},
   "outputs": [],
   "source": [
    "rendering_county = claims.groupby(['rendering_county', 'service_year'])['rendering_npi'].nunique()"
   ]
  },
  {
   "cell_type": "code",
   "execution_count": 10,
   "metadata": {},
   "outputs": [],
   "source": [
    "rendering_outside_tn = claims[claims['rendering_state'] != 'TN']"
   ]
  },
  {
   "cell_type": "code",
   "execution_count": 11,
   "metadata": {},
   "outputs": [],
   "source": [
    "patients_zip3.to_csv('../data/patients_zip3.csv')"
   ]
  },
  {
   "cell_type": "code",
   "execution_count": 12,
   "metadata": {},
   "outputs": [],
   "source": [
    "rendering_zipcode.to_csv('../data/rendering_zipcode.csv')"
   ]
  },
  {
   "cell_type": "code",
   "execution_count": 13,
   "metadata": {},
   "outputs": [],
   "source": [
    "rendering_county.to_csv('../data/rendering_county.csv')"
   ]
  },
  {
   "cell_type": "code",
   "execution_count": 14,
   "metadata": {},
   "outputs": [],
   "source": [
    "rendering_outside_tn.to_csv('../data/rendering_outside_tn.csv')"
   ]
  },
  {
   "cell_type": "code",
   "execution_count": null,
   "metadata": {},
   "outputs": [],
   "source": []
  }
 ],
 "metadata": {
  "interpreter": {
   "hash": "dc3255af1da0fccfb6a3a06ba04d2d932b27120a976b0b1f7ff359d3b0dabd2f"
  },
  "kernelspec": {
   "display_name": "Python 3.8.13 ('base')",
   "language": "python",
   "name": "python3"
  },
  "language_info": {
   "codemirror_mode": {
    "name": "ipython",
    "version": 3
   },
   "file_extension": ".py",
   "mimetype": "text/x-python",
   "name": "python",
   "nbconvert_exporter": "python",
   "pygments_lexer": "ipython3",
   "version": "3.8.13"
  },
  "orig_nbformat": 4
 },
 "nbformat": 4,
 "nbformat_minor": 2
}
